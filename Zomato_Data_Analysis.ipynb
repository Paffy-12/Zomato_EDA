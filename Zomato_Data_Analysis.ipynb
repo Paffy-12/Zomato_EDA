{
  "cells": [
    {
      "cell_type": "code",
      "execution_count": null,
      "metadata": {
        "id": "zwFnJsE6vjf8"
      },
      "outputs": [],
      "source": []
    },
    {
      "cell_type": "code",
      "execution_count": 1,
      "metadata": {
        "id": "GfIaSXfEYevo"
      },
      "outputs": [],
      "source": [
        "import pandas as pd\n",
        "import numpy as np\n",
        "import matplotlib.pyplot as plt\n",
        "import seaborn as sns"
      ]
    },
    {
      "cell_type": "code",
      "execution_count": 43,
      "metadata": {
        "colab": {
          "base_uri": "https://localhost:8080/"
        },
        "id": "gtmrJERKkLFX",
        "outputId": "b00f8632-fe39-4025-c395-1146ae97bcea"
      },
      "outputs": [
        {
          "name": "stdout",
          "output_type": "stream",
          "text": [
            "Mounted at /content/drive\n"
          ]
        }
      ],
      "source": []
    },
    {
      "cell_type": "code",
      "execution_count": 2,
      "metadata": {
        "colab": {
          "base_uri": "https://localhost:8080/",
          "height": 608
        },
        "id": "ag6pq7K-YrnW",
        "outputId": "69859e4c-35b5-48db-bd81-75148ef51eb6"
      },
      "outputs": [
        {
          "data": {
            "text/html": [
              "<div>\n",
              "<style scoped>\n",
              "    .dataframe tbody tr th:only-of-type {\n",
              "        vertical-align: middle;\n",
              "    }\n",
              "\n",
              "    .dataframe tbody tr th {\n",
              "        vertical-align: top;\n",
              "    }\n",
              "\n",
              "    .dataframe thead th {\n",
              "        text-align: right;\n",
              "    }\n",
              "</style>\n",
              "<table border=\"1\" class=\"dataframe\">\n",
              "  <thead>\n",
              "    <tr style=\"text-align: right;\">\n",
              "      <th></th>\n",
              "      <th>url</th>\n",
              "      <th>address</th>\n",
              "      <th>name</th>\n",
              "      <th>online_order</th>\n",
              "      <th>book_table</th>\n",
              "      <th>rate</th>\n",
              "      <th>votes</th>\n",
              "      <th>phone</th>\n",
              "      <th>location</th>\n",
              "      <th>rest_type</th>\n",
              "      <th>dish_liked</th>\n",
              "      <th>cuisines</th>\n",
              "      <th>approx_cost(for two people)</th>\n",
              "      <th>reviews_list</th>\n",
              "      <th>menu_item</th>\n",
              "      <th>listed_in(type)</th>\n",
              "      <th>listed_in(city)</th>\n",
              "    </tr>\n",
              "  </thead>\n",
              "  <tbody>\n",
              "    <tr>\n",
              "      <th>0</th>\n",
              "      <td>https://www.zomato.com/bangalore/jalsa-banasha...</td>\n",
              "      <td>942, 21st Main Road, 2nd Stage, Banashankari, ...</td>\n",
              "      <td>Jalsa</td>\n",
              "      <td>Yes</td>\n",
              "      <td>Yes</td>\n",
              "      <td>4.1/5</td>\n",
              "      <td>775</td>\n",
              "      <td>080 42297555\\r\\n+91 9743772233</td>\n",
              "      <td>Banashankari</td>\n",
              "      <td>Casual Dining</td>\n",
              "      <td>Pasta, Lunch Buffet, Masala Papad, Paneer Laja...</td>\n",
              "      <td>North Indian, Mughlai, Chinese</td>\n",
              "      <td>800</td>\n",
              "      <td>[('Rated 4.0', 'RATED\\n  A beautiful place to ...</td>\n",
              "      <td>[]</td>\n",
              "      <td>Buffet</td>\n",
              "      <td>Banashankari</td>\n",
              "    </tr>\n",
              "    <tr>\n",
              "      <th>1</th>\n",
              "      <td>https://www.zomato.com/bangalore/spice-elephan...</td>\n",
              "      <td>2nd Floor, 80 Feet Road, Near Big Bazaar, 6th ...</td>\n",
              "      <td>Spice Elephant</td>\n",
              "      <td>Yes</td>\n",
              "      <td>No</td>\n",
              "      <td>4.1/5</td>\n",
              "      <td>787</td>\n",
              "      <td>080 41714161</td>\n",
              "      <td>Banashankari</td>\n",
              "      <td>Casual Dining</td>\n",
              "      <td>Momos, Lunch Buffet, Chocolate Nirvana, Thai G...</td>\n",
              "      <td>Chinese, North Indian, Thai</td>\n",
              "      <td>800</td>\n",
              "      <td>[('Rated 4.0', 'RATED\\n  Had been here for din...</td>\n",
              "      <td>[]</td>\n",
              "      <td>Buffet</td>\n",
              "      <td>Banashankari</td>\n",
              "    </tr>\n",
              "    <tr>\n",
              "      <th>2</th>\n",
              "      <td>https://www.zomato.com/SanchurroBangalore?cont...</td>\n",
              "      <td>1112, Next to KIMS Medical College, 17th Cross...</td>\n",
              "      <td>San Churro Cafe</td>\n",
              "      <td>Yes</td>\n",
              "      <td>No</td>\n",
              "      <td>3.8/5</td>\n",
              "      <td>918</td>\n",
              "      <td>+91 9663487993</td>\n",
              "      <td>Banashankari</td>\n",
              "      <td>Cafe, Casual Dining</td>\n",
              "      <td>Churros, Cannelloni, Minestrone Soup, Hot Choc...</td>\n",
              "      <td>Cafe, Mexican, Italian</td>\n",
              "      <td>800</td>\n",
              "      <td>[('Rated 3.0', \"RATED\\n  Ambience is not that ...</td>\n",
              "      <td>[]</td>\n",
              "      <td>Buffet</td>\n",
              "      <td>Banashankari</td>\n",
              "    </tr>\n",
              "    <tr>\n",
              "      <th>3</th>\n",
              "      <td>https://www.zomato.com/bangalore/addhuri-udupi...</td>\n",
              "      <td>1st Floor, Annakuteera, 3rd Stage, Banashankar...</td>\n",
              "      <td>Addhuri Udupi Bhojana</td>\n",
              "      <td>No</td>\n",
              "      <td>No</td>\n",
              "      <td>3.7/5</td>\n",
              "      <td>88</td>\n",
              "      <td>+91 9620009302</td>\n",
              "      <td>Banashankari</td>\n",
              "      <td>Quick Bites</td>\n",
              "      <td>Masala Dosa</td>\n",
              "      <td>South Indian, North Indian</td>\n",
              "      <td>300</td>\n",
              "      <td>[('Rated 4.0', \"RATED\\n  Great food and proper...</td>\n",
              "      <td>[]</td>\n",
              "      <td>Buffet</td>\n",
              "      <td>Banashankari</td>\n",
              "    </tr>\n",
              "    <tr>\n",
              "      <th>4</th>\n",
              "      <td>https://www.zomato.com/bangalore/grand-village...</td>\n",
              "      <td>10, 3rd Floor, Lakshmi Associates, Gandhi Baza...</td>\n",
              "      <td>Grand Village</td>\n",
              "      <td>No</td>\n",
              "      <td>No</td>\n",
              "      <td>3.8/5</td>\n",
              "      <td>166</td>\n",
              "      <td>+91 8026612447\\r\\n+91 9901210005</td>\n",
              "      <td>Basavanagudi</td>\n",
              "      <td>Casual Dining</td>\n",
              "      <td>Panipuri, Gol Gappe</td>\n",
              "      <td>North Indian, Rajasthani</td>\n",
              "      <td>600</td>\n",
              "      <td>[('Rated 4.0', 'RATED\\n  Very good restaurant ...</td>\n",
              "      <td>[]</td>\n",
              "      <td>Buffet</td>\n",
              "      <td>Banashankari</td>\n",
              "    </tr>\n",
              "  </tbody>\n",
              "</table>\n",
              "</div>"
            ],
            "text/plain": [
              "                                                 url  \\\n",
              "0  https://www.zomato.com/bangalore/jalsa-banasha...   \n",
              "1  https://www.zomato.com/bangalore/spice-elephan...   \n",
              "2  https://www.zomato.com/SanchurroBangalore?cont...   \n",
              "3  https://www.zomato.com/bangalore/addhuri-udupi...   \n",
              "4  https://www.zomato.com/bangalore/grand-village...   \n",
              "\n",
              "                                             address                   name  \\\n",
              "0  942, 21st Main Road, 2nd Stage, Banashankari, ...                  Jalsa   \n",
              "1  2nd Floor, 80 Feet Road, Near Big Bazaar, 6th ...         Spice Elephant   \n",
              "2  1112, Next to KIMS Medical College, 17th Cross...        San Churro Cafe   \n",
              "3  1st Floor, Annakuteera, 3rd Stage, Banashankar...  Addhuri Udupi Bhojana   \n",
              "4  10, 3rd Floor, Lakshmi Associates, Gandhi Baza...          Grand Village   \n",
              "\n",
              "  online_order book_table   rate  votes                             phone  \\\n",
              "0          Yes        Yes  4.1/5    775    080 42297555\\r\\n+91 9743772233   \n",
              "1          Yes         No  4.1/5    787                      080 41714161   \n",
              "2          Yes         No  3.8/5    918                    +91 9663487993   \n",
              "3           No         No  3.7/5     88                    +91 9620009302   \n",
              "4           No         No  3.8/5    166  +91 8026612447\\r\\n+91 9901210005   \n",
              "\n",
              "       location            rest_type  \\\n",
              "0  Banashankari        Casual Dining   \n",
              "1  Banashankari        Casual Dining   \n",
              "2  Banashankari  Cafe, Casual Dining   \n",
              "3  Banashankari          Quick Bites   \n",
              "4  Basavanagudi        Casual Dining   \n",
              "\n",
              "                                          dish_liked  \\\n",
              "0  Pasta, Lunch Buffet, Masala Papad, Paneer Laja...   \n",
              "1  Momos, Lunch Buffet, Chocolate Nirvana, Thai G...   \n",
              "2  Churros, Cannelloni, Minestrone Soup, Hot Choc...   \n",
              "3                                        Masala Dosa   \n",
              "4                                Panipuri, Gol Gappe   \n",
              "\n",
              "                         cuisines approx_cost(for two people)  \\\n",
              "0  North Indian, Mughlai, Chinese                         800   \n",
              "1     Chinese, North Indian, Thai                         800   \n",
              "2          Cafe, Mexican, Italian                         800   \n",
              "3      South Indian, North Indian                         300   \n",
              "4        North Indian, Rajasthani                         600   \n",
              "\n",
              "                                        reviews_list menu_item  \\\n",
              "0  [('Rated 4.0', 'RATED\\n  A beautiful place to ...        []   \n",
              "1  [('Rated 4.0', 'RATED\\n  Had been here for din...        []   \n",
              "2  [('Rated 3.0', \"RATED\\n  Ambience is not that ...        []   \n",
              "3  [('Rated 4.0', \"RATED\\n  Great food and proper...        []   \n",
              "4  [('Rated 4.0', 'RATED\\n  Very good restaurant ...        []   \n",
              "\n",
              "  listed_in(type) listed_in(city)  \n",
              "0          Buffet    Banashankari  \n",
              "1          Buffet    Banashankari  \n",
              "2          Buffet    Banashankari  \n",
              "3          Buffet    Banashankari  \n",
              "4          Buffet    Banashankari  "
            ]
          },
          "execution_count": 2,
          "metadata": {},
          "output_type": "execute_result"
        }
      ],
      "source": [
        "data = pd.read_csv('zomato.csv') # check utf\n",
        "data.head()"
      ]
    },
    {
      "cell_type": "code",
      "execution_count": 3,
      "metadata": {
        "colab": {
          "base_uri": "https://localhost:8080/"
        },
        "id": "uHgsQhGhZmtq",
        "outputId": "ac4da845-6473-4556-b99c-4bbb5b35dbf6"
      },
      "outputs": [
        {
          "data": {
            "text/plain": [
              "(51717, 17)"
            ]
          },
          "execution_count": 3,
          "metadata": {},
          "output_type": "execute_result"
        }
      ],
      "source": [
        "data.shape"
      ]
    },
    {
      "cell_type": "code",
      "execution_count": 4,
      "metadata": {
        "colab": {
          "base_uri": "https://localhost:8080/"
        },
        "id": "6oVMDO7bZvz6",
        "outputId": "6cf2a855-6b37-4acf-9397-f58a7443464f"
      },
      "outputs": [
        {
          "data": {
            "text/plain": [
              "0"
            ]
          },
          "execution_count": 4,
          "metadata": {},
          "output_type": "execute_result"
        }
      ],
      "source": [
        "data.duplicated().sum()"
      ]
    },
    {
      "cell_type": "code",
      "execution_count": 5,
      "metadata": {
        "colab": {
          "base_uri": "https://localhost:8080/"
        },
        "id": "JmkxSPhocKkE",
        "outputId": "b15724a6-dbed-45e7-f0c2-ddfe6be7d9db"
      },
      "outputs": [
        {
          "data": {
            "text/plain": [
              "Index(['url', 'address', 'name', 'online_order', 'book_table', 'rate', 'votes',\n",
              "       'phone', 'location', 'rest_type', 'dish_liked', 'cuisines',\n",
              "       'approx_cost(for two people)', 'reviews_list', 'menu_item',\n",
              "       'listed_in(type)', 'listed_in(city)'],\n",
              "      dtype='object')"
            ]
          },
          "execution_count": 5,
          "metadata": {},
          "output_type": "execute_result"
        }
      ],
      "source": [
        "data.columns"
      ]
    },
    {
      "cell_type": "code",
      "execution_count": 6,
      "metadata": {
        "colab": {
          "base_uri": "https://localhost:8080/"
        },
        "id": "jjn4WE1uZ8RH",
        "outputId": "69da6fd2-1b2a-4c2b-9846-d52d5e6289b4"
      },
      "outputs": [
        {
          "name": "stdout",
          "output_type": "stream",
          "text": [
            "<class 'pandas.core.frame.DataFrame'>\n",
            "RangeIndex: 51717 entries, 0 to 51716\n",
            "Data columns (total 17 columns):\n",
            " #   Column                       Non-Null Count  Dtype \n",
            "---  ------                       --------------  ----- \n",
            " 0   url                          51717 non-null  object\n",
            " 1   address                      51717 non-null  object\n",
            " 2   name                         51717 non-null  object\n",
            " 3   online_order                 51717 non-null  object\n",
            " 4   book_table                   51717 non-null  object\n",
            " 5   rate                         43942 non-null  object\n",
            " 6   votes                        51717 non-null  int64 \n",
            " 7   phone                        50509 non-null  object\n",
            " 8   location                     51696 non-null  object\n",
            " 9   rest_type                    51490 non-null  object\n",
            " 10  dish_liked                   23639 non-null  object\n",
            " 11  cuisines                     51672 non-null  object\n",
            " 12  approx_cost(for two people)  51371 non-null  object\n",
            " 13  reviews_list                 51717 non-null  object\n",
            " 14  menu_item                    51717 non-null  object\n",
            " 15  listed_in(type)              51717 non-null  object\n",
            " 16  listed_in(city)              51717 non-null  object\n",
            "dtypes: int64(1), object(16)\n",
            "memory usage: 6.7+ MB\n"
          ]
        }
      ],
      "source": [
        "data.info()"
      ]
    },
    {
      "cell_type": "code",
      "execution_count": 7,
      "metadata": {
        "id": "WnMYDKAph7hm"
      },
      "outputs": [],
      "source": [
        "data = data.drop(['url','address','phone','menu_item','listed_in(type)','listed_in(city)'],axis=1)"
      ]
    },
    {
      "cell_type": "code",
      "execution_count": 8,
      "metadata": {
        "colab": {
          "base_uri": "https://localhost:8080/",
          "height": 310
        },
        "id": "CpwEK1GWp0UA",
        "outputId": "d6435919-8782-4def-d169-1adc46344331"
      },
      "outputs": [
        {
          "data": {
            "text/html": [
              "<div>\n",
              "<style scoped>\n",
              "    .dataframe tbody tr th:only-of-type {\n",
              "        vertical-align: middle;\n",
              "    }\n",
              "\n",
              "    .dataframe tbody tr th {\n",
              "        vertical-align: top;\n",
              "    }\n",
              "\n",
              "    .dataframe thead th {\n",
              "        text-align: right;\n",
              "    }\n",
              "</style>\n",
              "<table border=\"1\" class=\"dataframe\">\n",
              "  <thead>\n",
              "    <tr style=\"text-align: right;\">\n",
              "      <th></th>\n",
              "      <th>name</th>\n",
              "      <th>online_order</th>\n",
              "      <th>book_table</th>\n",
              "      <th>rate</th>\n",
              "      <th>votes</th>\n",
              "      <th>location</th>\n",
              "      <th>rest_type</th>\n",
              "      <th>dish_liked</th>\n",
              "      <th>cuisines</th>\n",
              "      <th>approx_cost(for two people)</th>\n",
              "      <th>reviews_list</th>\n",
              "    </tr>\n",
              "  </thead>\n",
              "  <tbody>\n",
              "    <tr>\n",
              "      <th>0</th>\n",
              "      <td>Jalsa</td>\n",
              "      <td>Yes</td>\n",
              "      <td>Yes</td>\n",
              "      <td>4.1/5</td>\n",
              "      <td>775</td>\n",
              "      <td>Banashankari</td>\n",
              "      <td>Casual Dining</td>\n",
              "      <td>Pasta, Lunch Buffet, Masala Papad, Paneer Laja...</td>\n",
              "      <td>North Indian, Mughlai, Chinese</td>\n",
              "      <td>800</td>\n",
              "      <td>[('Rated 4.0', 'RATED\\n  A beautiful place to ...</td>\n",
              "    </tr>\n",
              "    <tr>\n",
              "      <th>1</th>\n",
              "      <td>Spice Elephant</td>\n",
              "      <td>Yes</td>\n",
              "      <td>No</td>\n",
              "      <td>4.1/5</td>\n",
              "      <td>787</td>\n",
              "      <td>Banashankari</td>\n",
              "      <td>Casual Dining</td>\n",
              "      <td>Momos, Lunch Buffet, Chocolate Nirvana, Thai G...</td>\n",
              "      <td>Chinese, North Indian, Thai</td>\n",
              "      <td>800</td>\n",
              "      <td>[('Rated 4.0', 'RATED\\n  Had been here for din...</td>\n",
              "    </tr>\n",
              "    <tr>\n",
              "      <th>2</th>\n",
              "      <td>San Churro Cafe</td>\n",
              "      <td>Yes</td>\n",
              "      <td>No</td>\n",
              "      <td>3.8/5</td>\n",
              "      <td>918</td>\n",
              "      <td>Banashankari</td>\n",
              "      <td>Cafe, Casual Dining</td>\n",
              "      <td>Churros, Cannelloni, Minestrone Soup, Hot Choc...</td>\n",
              "      <td>Cafe, Mexican, Italian</td>\n",
              "      <td>800</td>\n",
              "      <td>[('Rated 3.0', \"RATED\\n  Ambience is not that ...</td>\n",
              "    </tr>\n",
              "    <tr>\n",
              "      <th>3</th>\n",
              "      <td>Addhuri Udupi Bhojana</td>\n",
              "      <td>No</td>\n",
              "      <td>No</td>\n",
              "      <td>3.7/5</td>\n",
              "      <td>88</td>\n",
              "      <td>Banashankari</td>\n",
              "      <td>Quick Bites</td>\n",
              "      <td>Masala Dosa</td>\n",
              "      <td>South Indian, North Indian</td>\n",
              "      <td>300</td>\n",
              "      <td>[('Rated 4.0', \"RATED\\n  Great food and proper...</td>\n",
              "    </tr>\n",
              "    <tr>\n",
              "      <th>4</th>\n",
              "      <td>Grand Village</td>\n",
              "      <td>No</td>\n",
              "      <td>No</td>\n",
              "      <td>3.8/5</td>\n",
              "      <td>166</td>\n",
              "      <td>Basavanagudi</td>\n",
              "      <td>Casual Dining</td>\n",
              "      <td>Panipuri, Gol Gappe</td>\n",
              "      <td>North Indian, Rajasthani</td>\n",
              "      <td>600</td>\n",
              "      <td>[('Rated 4.0', 'RATED\\n  Very good restaurant ...</td>\n",
              "    </tr>\n",
              "  </tbody>\n",
              "</table>\n",
              "</div>"
            ],
            "text/plain": [
              "                    name online_order book_table   rate  votes      location  \\\n",
              "0                  Jalsa          Yes        Yes  4.1/5    775  Banashankari   \n",
              "1         Spice Elephant          Yes         No  4.1/5    787  Banashankari   \n",
              "2        San Churro Cafe          Yes         No  3.8/5    918  Banashankari   \n",
              "3  Addhuri Udupi Bhojana           No         No  3.7/5     88  Banashankari   \n",
              "4          Grand Village           No         No  3.8/5    166  Basavanagudi   \n",
              "\n",
              "             rest_type                                         dish_liked  \\\n",
              "0        Casual Dining  Pasta, Lunch Buffet, Masala Papad, Paneer Laja...   \n",
              "1        Casual Dining  Momos, Lunch Buffet, Chocolate Nirvana, Thai G...   \n",
              "2  Cafe, Casual Dining  Churros, Cannelloni, Minestrone Soup, Hot Choc...   \n",
              "3          Quick Bites                                        Masala Dosa   \n",
              "4        Casual Dining                                Panipuri, Gol Gappe   \n",
              "\n",
              "                         cuisines approx_cost(for two people)  \\\n",
              "0  North Indian, Mughlai, Chinese                         800   \n",
              "1     Chinese, North Indian, Thai                         800   \n",
              "2          Cafe, Mexican, Italian                         800   \n",
              "3      South Indian, North Indian                         300   \n",
              "4        North Indian, Rajasthani                         600   \n",
              "\n",
              "                                        reviews_list  \n",
              "0  [('Rated 4.0', 'RATED\\n  A beautiful place to ...  \n",
              "1  [('Rated 4.0', 'RATED\\n  Had been here for din...  \n",
              "2  [('Rated 3.0', \"RATED\\n  Ambience is not that ...  \n",
              "3  [('Rated 4.0', \"RATED\\n  Great food and proper...  \n",
              "4  [('Rated 4.0', 'RATED\\n  Very good restaurant ...  "
            ]
          },
          "execution_count": 8,
          "metadata": {},
          "output_type": "execute_result"
        }
      ],
      "source": [
        "data.head()"
      ]
    },
    {
      "cell_type": "code",
      "execution_count": 9,
      "metadata": {
        "colab": {
          "base_uri": "https://localhost:8080/"
        },
        "id": "H9jBcoJ6jsvT",
        "outputId": "4e4255aa-e7c2-464c-ad9c-8f800a60d09d"
      },
      "outputs": [
        {
          "data": {
            "text/plain": [
              "name                               0\n",
              "online_order                       0\n",
              "book_table                         0\n",
              "rate                            7775\n",
              "votes                              0\n",
              "location                          21\n",
              "rest_type                        227\n",
              "dish_liked                     28078\n",
              "cuisines                          45\n",
              "approx_cost(for two people)      346\n",
              "reviews_list                       0\n",
              "dtype: int64"
            ]
          },
          "execution_count": 9,
          "metadata": {},
          "output_type": "execute_result"
        }
      ],
      "source": [
        "data.isnull().sum()"
      ]
    },
    {
      "cell_type": "code",
      "execution_count": 10,
      "metadata": {
        "colab": {
          "base_uri": "https://localhost:8080/"
        },
        "id": "AMYCDQWWlOj-",
        "outputId": "fb61152c-f8ad-40f6-cbcf-53a472f6e75d"
      },
      "outputs": [
        {
          "data": {
            "text/plain": [
              "['rate',\n",
              " 'location',\n",
              " 'rest_type',\n",
              " 'dish_liked',\n",
              " 'cuisines',\n",
              " 'approx_cost(for two people)']"
            ]
          },
          "execution_count": 10,
          "metadata": {},
          "output_type": "execute_result"
        }
      ],
      "source": [
        "feature_na = [i for i in data.columns if data[i].isnull().sum()>0]\n",
        "feature_na"
      ]
    },
    {
      "cell_type": "code",
      "execution_count": 11,
      "metadata": {
        "colab": {
          "base_uri": "https://localhost:8080/"
        },
        "id": "FNocMo51lldv",
        "outputId": "5e7ceeaf-50f7-40ff-f11f-f5e46b518978"
      },
      "outputs": [
        {
          "name": "stdout",
          "output_type": "stream",
          "text": [
            "rate has 15.0337%null values\n",
            "location has 0.0406%null values\n",
            "rest_type has 0.4389%null values\n",
            "dish_liked has 54.2916%null values\n",
            "cuisines has 0.087%null values\n",
            "approx_cost(for two people) has 0.669%null values\n"
          ]
        }
      ],
      "source": [
        "for i in feature_na:\n",
        "  print(f\"{i} has {np.round((data[i].isnull().sum()/len(data[i])*100),4)}%null values\")"
      ]
    },
    {
      "cell_type": "code",
      "execution_count": 12,
      "metadata": {
        "colab": {
          "base_uri": "https://localhost:8080/"
        },
        "id": "hKt6fYbsmFLD",
        "outputId": "297b764c-bae6-4696-da5c-d32766181a54"
      },
      "outputs": [
        {
          "data": {
            "text/plain": [
              "array(['4.1/5', '3.8/5', '3.7/5', '3.6/5', '4.6/5', '4.0/5', '4.2/5',\n",
              "       '3.9/5', '3.1/5', '3.0/5', '3.2/5', '3.3/5', '2.8/5', '4.4/5',\n",
              "       '4.3/5', 'NEW', '2.9/5', '3.5/5', nan, '2.6/5', '3.8 /5', '3.4/5',\n",
              "       '4.5/5', '2.5/5', '2.7/5', '4.7/5', '2.4/5', '2.2/5', '2.3/5',\n",
              "       '3.4 /5', '-', '3.6 /5', '4.8/5', '3.9 /5', '4.2 /5', '4.0 /5',\n",
              "       '4.1 /5', '3.7 /5', '3.1 /5', '2.9 /5', '3.3 /5', '2.8 /5',\n",
              "       '3.5 /5', '2.7 /5', '2.5 /5', '3.2 /5', '2.6 /5', '4.5 /5',\n",
              "       '4.3 /5', '4.4 /5', '4.9/5', '2.1/5', '2.0/5', '1.8/5', '4.6 /5',\n",
              "       '4.9 /5', '3.0 /5', '4.8 /5', '2.3 /5', '4.7 /5', '2.4 /5',\n",
              "       '2.1 /5', '2.2 /5', '2.0 /5', '1.8 /5'], dtype=object)"
            ]
          },
          "execution_count": 12,
          "metadata": {},
          "output_type": "execute_result"
        }
      ],
      "source": [
        "data.rate.unique()"
      ]
    },
    {
      "cell_type": "code",
      "execution_count": 13,
      "metadata": {
        "id": "BSgh-zcAmJhT"
      },
      "outputs": [],
      "source": [
        "data.dropna(subset=['rate'],axis=0,inplace=True)"
      ]
    },
    {
      "cell_type": "code",
      "execution_count": 14,
      "metadata": {
        "id": "1bRH_8b1moC-"
      },
      "outputs": [],
      "source": [
        "def split(x):\n",
        "  return x.split('/')[0].strip() #strip will remove the spaces"
      ]
    },
    {
      "cell_type": "code",
      "execution_count": 15,
      "metadata": {
        "id": "Y2LFcQTkmwKz"
      },
      "outputs": [],
      "source": [
        "data.rate = data.rate.apply(split)"
      ]
    },
    {
      "cell_type": "code",
      "execution_count": 16,
      "metadata": {
        "colab": {
          "base_uri": "https://localhost:8080/"
        },
        "id": "1i6DhsyVnbGn",
        "outputId": "e42e8fca-1f02-4d22-ee22-b6903dde7a05"
      },
      "outputs": [
        {
          "data": {
            "text/plain": [
              "0        4.1\n",
              "1        4.1\n",
              "2        3.8\n",
              "3        3.7\n",
              "4        3.8\n",
              "        ... \n",
              "51709    3.7\n",
              "51711    2.5\n",
              "51712    3.6\n",
              "51715    4.3\n",
              "51716    3.4\n",
              "Name: rate, Length: 43942, dtype: object"
            ]
          },
          "execution_count": 16,
          "metadata": {},
          "output_type": "execute_result"
        }
      ],
      "source": [
        "data.rate"
      ]
    },
    {
      "cell_type": "code",
      "execution_count": 17,
      "metadata": {
        "id": "fYSne2WlpH9p"
      },
      "outputs": [],
      "source": [
        "data['rate'].replace(['NEW','-'],0,inplace=True)"
      ]
    },
    {
      "cell_type": "code",
      "execution_count": 18,
      "metadata": {
        "id": "i6k7xNLrpj_J"
      },
      "outputs": [],
      "source": [
        "data['rate'] = data['rate'].astype(float)"
      ]
    },
    {
      "cell_type": "code",
      "execution_count": 19,
      "metadata": {
        "colab": {
          "base_uri": "https://localhost:8080/"
        },
        "id": "9zyrNYTSptV4",
        "outputId": "973fdef0-21a5-44a5-9a52-8274f9ae5c0c"
      },
      "outputs": [
        {
          "data": {
            "text/plain": [
              "0        4.1\n",
              "1        4.1\n",
              "2        3.8\n",
              "3        3.7\n",
              "4        3.8\n",
              "        ... \n",
              "51709    3.7\n",
              "51711    2.5\n",
              "51712    3.6\n",
              "51715    4.3\n",
              "51716    3.4\n",
              "Name: rate, Length: 43942, dtype: float64"
            ]
          },
          "execution_count": 19,
          "metadata": {},
          "output_type": "execute_result"
        }
      ],
      "source": [
        "data['rate']"
      ]
    },
    {
      "cell_type": "code",
      "execution_count": 20,
      "metadata": {
        "colab": {
          "base_uri": "https://localhost:8080/"
        },
        "id": "QR381F-Ipp9B",
        "outputId": "5361b48a-1f98-4d3c-b606-83d7184bf452"
      },
      "outputs": [
        {
          "name": "stdout",
          "output_type": "stream",
          "text": [
            "<class 'pandas.core.frame.DataFrame'>\n",
            "Index: 43942 entries, 0 to 51716\n",
            "Data columns (total 11 columns):\n",
            " #   Column                       Non-Null Count  Dtype  \n",
            "---  ------                       --------------  -----  \n",
            " 0   name                         43942 non-null  object \n",
            " 1   online_order                 43942 non-null  object \n",
            " 2   book_table                   43942 non-null  object \n",
            " 3   rate                         43942 non-null  float64\n",
            " 4   votes                        43942 non-null  int64  \n",
            " 5   location                     43942 non-null  object \n",
            " 6   rest_type                    43791 non-null  object \n",
            " 7   dish_liked                   23609 non-null  object \n",
            " 8   cuisines                     43931 non-null  object \n",
            " 9   approx_cost(for two people)  43690 non-null  object \n",
            " 10  reviews_list                 43942 non-null  object \n",
            "dtypes: float64(1), int64(1), object(9)\n",
            "memory usage: 4.0+ MB\n"
          ]
        }
      ],
      "source": [
        "data.info()"
      ]
    },
    {
      "cell_type": "code",
      "execution_count": 21,
      "metadata": {
        "colab": {
          "base_uri": "https://localhost:8080/"
        },
        "id": "UG_eN6o3pxKG",
        "outputId": "f5146cdf-7746-4d7a-af78-984bbe7cf0c2"
      },
      "outputs": [
        {
          "data": {
            "text/plain": [
              "array(['800', '300', '600', '700', '550', '500', '450', '650', '400',\n",
              "       '900', '200', '750', '150', '850', '100', '1,200', '350', '250',\n",
              "       '950', '1,000', '1,500', '1,300', '199', '80', '1,100', '160',\n",
              "       '1,600', '230', '130', '1,700', '1,400', '1,350', nan, '2,200',\n",
              "       '2,000', '1,800', '1,900', '180', '330', '2,500', '2,100', '3,000',\n",
              "       '2,800', '3,400', '50', '40', '1,250', '3,500', '4,000', '2,400',\n",
              "       '2,600', '1,450', '70', '3,200', '560', '240', '360', '6,000',\n",
              "       '1,050', '2,300', '4,100', '120', '5,000', '3,700', '1,650',\n",
              "       '2,700', '4,500'], dtype=object)"
            ]
          },
          "execution_count": 21,
          "metadata": {},
          "output_type": "execute_result"
        }
      ],
      "source": [
        "data['approx_cost(for two people)'].unique()"
      ]
    },
    {
      "cell_type": "code",
      "execution_count": 22,
      "metadata": {
        "id": "J_SaDlH7qDY9"
      },
      "outputs": [],
      "source": [
        "def ac(x):\n",
        "  return x.replace(',','')"
      ]
    },
    {
      "cell_type": "code",
      "execution_count": 23,
      "metadata": {
        "id": "O1KM-DRMqNjh"
      },
      "outputs": [],
      "source": [
        "data['approx_cost(for two people)'] = data['approx_cost(for two people)'].astype(str).apply(ac)"
      ]
    },
    {
      "cell_type": "code",
      "execution_count": 24,
      "metadata": {
        "colab": {
          "base_uri": "https://localhost:8080/"
        },
        "id": "KsR7CeaSqyMg",
        "outputId": "b267d5c1-35ce-419f-f372-fedff0317f13"
      },
      "outputs": [
        {
          "data": {
            "text/plain": [
              "0         800.0\n",
              "1         800.0\n",
              "2         800.0\n",
              "3         300.0\n",
              "4         600.0\n",
              "          ...  \n",
              "51709     800.0\n",
              "51711     800.0\n",
              "51712    1500.0\n",
              "51715    2500.0\n",
              "51716    1500.0\n",
              "Name: approx_cost(for two people), Length: 43942, dtype: float64"
            ]
          },
          "execution_count": 24,
          "metadata": {},
          "output_type": "execute_result"
        }
      ],
      "source": [
        "data['approx_cost(for two people)'].astype(float)"
      ]
    },
    {
      "cell_type": "code",
      "execution_count": 25,
      "metadata": {
        "colab": {
          "base_uri": "https://localhost:8080/",
          "height": 455
        },
        "id": "ek7MJU34t3I6",
        "outputId": "1f264ec0-026d-4be6-8fc2-f0ad0fdc1891"
      },
      "outputs": [
        {
          "data": {
            "text/html": [
              "<div>\n",
              "<style scoped>\n",
              "    .dataframe tbody tr th:only-of-type {\n",
              "        vertical-align: middle;\n",
              "    }\n",
              "\n",
              "    .dataframe tbody tr th {\n",
              "        vertical-align: top;\n",
              "    }\n",
              "\n",
              "    .dataframe thead th {\n",
              "        text-align: right;\n",
              "    }\n",
              "</style>\n",
              "<table border=\"1\" class=\"dataframe\">\n",
              "  <thead>\n",
              "    <tr style=\"text-align: right;\">\n",
              "      <th></th>\n",
              "      <th>rate</th>\n",
              "    </tr>\n",
              "    <tr>\n",
              "      <th>name</th>\n",
              "      <th></th>\n",
              "    </tr>\n",
              "  </thead>\n",
              "  <tbody>\n",
              "    <tr>\n",
              "      <th>#FeelTheROLL</th>\n",
              "      <td>3.400000</td>\n",
              "    </tr>\n",
              "    <tr>\n",
              "      <th>#L-81 Cafe</th>\n",
              "      <td>3.900000</td>\n",
              "    </tr>\n",
              "    <tr>\n",
              "      <th>#refuel</th>\n",
              "      <td>3.700000</td>\n",
              "    </tr>\n",
              "    <tr>\n",
              "      <th>1000 B.C</th>\n",
              "      <td>3.200000</td>\n",
              "    </tr>\n",
              "    <tr>\n",
              "      <th>100ÃÂÃÂÃÂÃÂÃÂÃÂÃÂÃÂ°C</th>\n",
              "      <td>3.700000</td>\n",
              "    </tr>\n",
              "    <tr>\n",
              "      <th>...</th>\n",
              "      <td>...</td>\n",
              "    </tr>\n",
              "    <tr>\n",
              "      <th>i-Bar - The Park Bangalore</th>\n",
              "      <td>3.800000</td>\n",
              "    </tr>\n",
              "    <tr>\n",
              "      <th>iFruit Live Ice Creams</th>\n",
              "      <td>3.400000</td>\n",
              "    </tr>\n",
              "    <tr>\n",
              "      <th>iSpice Resto Cafe</th>\n",
              "      <td>3.700000</td>\n",
              "    </tr>\n",
              "    <tr>\n",
              "      <th>nu.tree</th>\n",
              "      <td>4.314286</td>\n",
              "    </tr>\n",
              "    <tr>\n",
              "      <th>re:cess - Hilton Bangalore Embassy GolfLinks</th>\n",
              "      <td>4.100000</td>\n",
              "    </tr>\n",
              "  </tbody>\n",
              "</table>\n",
              "<p>7162 rows × 1 columns</p>\n",
              "</div>"
            ],
            "text/plain": [
              "                                                  rate\n",
              "name                                                  \n",
              "#FeelTheROLL                                  3.400000\n",
              "#L-81 Cafe                                    3.900000\n",
              "#refuel                                       3.700000\n",
              "1000 B.C                                      3.200000\n",
              "100ÃÂÃÂÃÂÃÂÃÂÃÂÃÂÃÂ°C          3.700000\n",
              "...                                                ...\n",
              "i-Bar - The Park Bangalore                    3.800000\n",
              "iFruit Live Ice Creams                        3.400000\n",
              "iSpice Resto Cafe                             3.700000\n",
              "nu.tree                                       4.314286\n",
              "re:cess - Hilton Bangalore Embassy GolfLinks  4.100000\n",
              "\n",
              "[7162 rows x 1 columns]"
            ]
          },
          "execution_count": 25,
          "metadata": {},
          "output_type": "execute_result"
        }
      ],
      "source": [
        "#calculating avg rating for each\n",
        "rating = pd.pivot_table(data,index='name',values='rate')\n",
        "rating"
      ]
    },
    {
      "cell_type": "code",
      "execution_count": 26,
      "metadata": {
        "colab": {
          "base_uri": "https://localhost:8080/",
          "height": 551
        },
        "id": "L4UwzX2guhbM",
        "outputId": "db6397a8-7f37-465b-d857-1af10ee87f08"
      },
      "outputs": [
        {
          "data": {
            "text/html": [
              "<div>\n",
              "<style scoped>\n",
              "    .dataframe tbody tr th:only-of-type {\n",
              "        vertical-align: middle;\n",
              "    }\n",
              "\n",
              "    .dataframe tbody tr th {\n",
              "        vertical-align: top;\n",
              "    }\n",
              "\n",
              "    .dataframe thead th {\n",
              "        text-align: right;\n",
              "    }\n",
              "</style>\n",
              "<table border=\"1\" class=\"dataframe\">\n",
              "  <thead>\n",
              "    <tr style=\"text-align: right;\">\n",
              "      <th></th>\n",
              "      <th>rate</th>\n",
              "    </tr>\n",
              "    <tr>\n",
              "      <th>name</th>\n",
              "      <th></th>\n",
              "    </tr>\n",
              "  </thead>\n",
              "  <tbody>\n",
              "    <tr>\n",
              "      <th>Asia Kitchen By Mainland China</th>\n",
              "      <td>4.900000</td>\n",
              "    </tr>\n",
              "    <tr>\n",
              "      <th>Byg Brewski Brewing Company</th>\n",
              "      <td>4.900000</td>\n",
              "    </tr>\n",
              "    <tr>\n",
              "      <th>SantÃÂÃÂÃÂÃÂÃÂÃÂÃÂÃÂÃÂÃÂÃÂÃÂÃÂÃÂÃÂÃÂ© Spa Cuisine</th>\n",
              "      <td>4.900000</td>\n",
              "    </tr>\n",
              "    <tr>\n",
              "      <th>Punjab Grill</th>\n",
              "      <td>4.871429</td>\n",
              "    </tr>\n",
              "    <tr>\n",
              "      <th>Belgian Waffle Factory</th>\n",
              "      <td>4.844828</td>\n",
              "    </tr>\n",
              "    <tr>\n",
              "      <th>O.G. Variar &amp; Sons</th>\n",
              "      <td>4.800000</td>\n",
              "    </tr>\n",
              "    <tr>\n",
              "      <th>Flechazo</th>\n",
              "      <td>4.800000</td>\n",
              "    </tr>\n",
              "    <tr>\n",
              "      <th>The Pizza Bakery</th>\n",
              "      <td>4.800000</td>\n",
              "    </tr>\n",
              "    <tr>\n",
              "      <th>AB's - Absolute Barbecues</th>\n",
              "      <td>4.789474</td>\n",
              "    </tr>\n",
              "    <tr>\n",
              "      <th>Barbecue by Punjab Grill</th>\n",
              "      <td>4.750000</td>\n",
              "    </tr>\n",
              "    <tr>\n",
              "      <th>CTR</th>\n",
              "      <td>4.750000</td>\n",
              "    </tr>\n",
              "    <tr>\n",
              "      <th>The Black Pearl</th>\n",
              "      <td>4.727778</td>\n",
              "    </tr>\n",
              "    <tr>\n",
              "      <th>House Of Commons</th>\n",
              "      <td>4.723810</td>\n",
              "    </tr>\n",
              "    <tr>\n",
              "      <th>The Big Barbeque</th>\n",
              "      <td>4.700000</td>\n",
              "    </tr>\n",
              "    <tr>\n",
              "      <th>ECHOES Koramangala</th>\n",
              "      <td>4.700000</td>\n",
              "    </tr>\n",
              "  </tbody>\n",
              "</table>\n",
              "</div>"
            ],
            "text/plain": [
              "                                                        rate\n",
              "name                                                        \n",
              "Asia Kitchen By Mainland China                      4.900000\n",
              "Byg Brewski Brewing Company                         4.900000\n",
              "SantÃÂÃÂÃÂÃÂÃÂÃÂÃÂÃÂÃÂÃÂÃÂ...  4.900000\n",
              "Punjab Grill                                        4.871429\n",
              "Belgian Waffle Factory                              4.844828\n",
              "O.G. Variar & Sons                                  4.800000\n",
              "Flechazo                                            4.800000\n",
              "The Pizza Bakery                                    4.800000\n",
              "AB's - Absolute Barbecues                           4.789474\n",
              "Barbecue by Punjab Grill                            4.750000\n",
              "CTR                                                 4.750000\n",
              "The Black Pearl                                     4.727778\n",
              "House Of Commons                                    4.723810\n",
              "The Big Barbeque                                    4.700000\n",
              "ECHOES Koramangala                                  4.700000"
            ]
          },
          "execution_count": 26,
          "metadata": {},
          "output_type": "execute_result"
        }
      ],
      "source": [
        "rating = rating.sort_values(by='rate',ascending=False)\n",
        "rating[0:15]"
      ]
    },
    {
      "cell_type": "code",
      "execution_count": 27,
      "metadata": {
        "colab": {
          "base_uri": "https://localhost:8080/",
          "height": 590
        },
        "id": "w88ddEGCupf4",
        "outputId": "05b30dbc-7f0b-419c-91dc-362156e58bc9"
      },
      "outputs": [
        {
          "name": "stderr",
          "output_type": "stream",
          "text": [
            "C:\\Users\\ragha\\AppData\\Roaming\\Python\\Python311\\site-packages\\IPython\\core\\pylabtools.py:152: UserWarning: Glyph 131 (\\x83) missing from current font.\n",
            "  fig.canvas.print_figure(bytes_io, **kw)\n",
            "C:\\Users\\ragha\\AppData\\Roaming\\Python\\Python311\\site-packages\\IPython\\core\\pylabtools.py:152: UserWarning: Glyph 130 (\\x82) missing from current font.\n",
            "  fig.canvas.print_figure(bytes_io, **kw)\n"
          ]
        },
        {
          "data": {
            "image/png": "[encoded data removed]",
            "text/plain": [
              "<Figure size 1500x800 with 1 Axes>"
            ]
          },
          "metadata": {},
          "output_type": "display_data"
        }
      ],
      "source": [
        "plt.figure(figsize=(15,8))\n",
        "sns.barplot(x=rating[0:20].rate,y=rating[0:20].index,orient=\"h\")\n",
        "plt.show()"
      ]
    },
    {
      "cell_type": "code",
      "execution_count": 28,
      "metadata": {
        "colab": {
          "base_uri": "https://localhost:8080/",
          "height": 506
        },
        "id": "4I82eBWTwiDG",
        "outputId": "157a695c-4a1f-4774-85ee-e73169ac1b20"
      },
      "outputs": [
        {
          "data": {
            "image/png": "[encoded data removed]",
            "text/plain": [
              "<Figure size 500x500 with 1 Axes>"
            ]
          },
          "metadata": {},
          "output_type": "display_data"
        }
      ],
      "source": [
        "sns.set_style('whitegrid')\n",
        "sns.displot(data['rate'])\n",
        "\n",
        "plt.show()"
      ]
    },
    {
      "cell_type": "code",
      "execution_count": 29,
      "metadata": {
        "colab": {
          "base_uri": "https://localhost:8080/"
        },
        "id": "mguezqLtwuHE",
        "outputId": "98655416-6736-4077-c1fd-f736dd59ce4a"
      },
      "outputs": [
        {
          "name": "stdout",
          "output_type": "stream",
          "text": [
            "Statistics=24555.118, p=0.000\n",
            "Not a Normal Distribution\n"
          ]
        }
      ],
      "source": [
        "from scipy.stats import normaltest\n",
        "DataToTest = data['rate']\n",
        "stat, p = normaltest(DataToTest)\n",
        "print('Statistics=%.3f, p=%.3f' % (stat, p))\n",
        "\n",
        "if p>0.05:\n",
        "  print('Normal Distribution')\n",
        "else:\n",
        "  print('Not a Normal Distribution')"
      ]
    },
    {
      "cell_type": "code",
      "execution_count": 32,
      "metadata": {
        "id": "hBhT6sqFaqPE"
      },
      "outputs": [],
      "source": [
        "def find_outlier_IQR(data):\n",
        "  out=[]\n",
        "  q1 = data.quantile(0.25)\n",
        "  q3 = data.quantile(0.75)\n",
        "  IQR = q3-q1\n",
        "  upper=q3+1.5*IQR\n",
        "  lower=q1-1.5*IQR\n",
        "  for i in data:\n",
        "    if i>upper or i<lower:\n",
        "      out.append(i)\n",
        "  return out"
      ]
    }
  ],
  "metadata": {
    "colab": {
      "provenance": []
    },
    "kernelspec": {
      "display_name": "Python 3",
      "name": "python3"
    },
    "language_info": {
      "codemirror_mode": {
        "name": "ipython",
        "version": 3
      },
      "file_extension": ".py",
      "mimetype": "text/x-python",
      "name": "python",
      "nbconvert_exporter": "python",
      "pygments_lexer": "ipython3",
      "version": "3.11.3"
    }
  },
  "nbformat": 4,
  "nbformat_minor": 0
}
